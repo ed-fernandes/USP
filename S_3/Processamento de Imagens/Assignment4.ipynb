{
  "nbformat": 4,
  "nbformat_minor": 0,
  "metadata": {
    "colab": {
      "name": "Assignment4.ipynb",
      "provenance": [],
      "collapsed_sections": []
    },
    "kernelspec": {
      "name": "python3",
      "display_name": "Python 3"
    },
    "language_info": {
      "name": "python"
    }
  },
  "cells": [
    {
      "cell_type": "code",
      "execution_count": 2,
      "metadata": {
        "id": "qK0EUY-ymQBS"
      },
      "outputs": [],
      "source": [
        "import numpy as np\n",
        "import matplotlib.pyplot as plt\n",
        "import imageio\n",
        "from numpy.fft import fftn, fftshift, fft2, ifft2, ifftshift, ifftn"
      ]
    },
    {
      "cell_type": "code",
      "source": [
        "#Comparison with original image usin the Root mean square error\n",
        "def error(img, output):\n",
        "  RMSE = np.sqrt(np.square(np.subtract(img,output)).mean())\n",
        "  print(f'{RMSE:.4f}')"
      ],
      "metadata": {
        "id": "3K5CD8Mzt8QT"
      },
      "execution_count": 3,
      "outputs": []
    },
    {
      "cell_type": "code",
      "source": [
        "#Degrading image\n",
        "def gaussian_filter(k, sigma):\n",
        "    arx = np.arange((-k // 2) + 1.0, (k // 2) + 1.0)\n",
        "    x, y = np.meshgrid(arx, arx)\n",
        "    filt = np.exp(-(1/2) * (np.square(x) + np.square(y)) / np.square(sigma))\n",
        "    return filt / np.sum(filt)"
      ],
      "metadata": {
        "id": "-c3CHx6JhuMw"
      },
      "execution_count": 4,
      "outputs": []
    },
    {
      "cell_type": "code",
      "source": [
        "def CLSQ(filename, k, sigma, gamma):\n",
        "  f = imageio.imread(filename)\n",
        "\n",
        "  #Computing the number of padding on one side\n",
        "\n",
        "  #Gaussian\n",
        "  h = gaussian_filter(k,sigma)\n",
        "  a = int(f.shape[0]//2 - h.shape[0]//2)\n",
        "  h_pad = np.pad(h, (a,a), 'constant', constant_values=(0))\n",
        "  #Laplace\n",
        "  p = np.asarray([[0, -1, 0],[-1,4,-1],[0,-1,0]])\n",
        "  b = int(f.shape[0]//2 - p.shape[0]//2)\n",
        "  p_pad = np.pad(p, (b,b), 'constant', constant_values=(0))\n",
        "\n",
        "  # computing the Fourier transforms\n",
        "  F = fftn(f)\n",
        "  P = fftn(p_pad)\n",
        "  H = fftn(h_pad)\n",
        "  H_inv = np.conjugate(H)\n",
        "\n",
        "\n",
        "  #Restoring the image\n",
        "  #R = H_inv/(H*H_inv + gamma*(np.abs(P)**2))\n",
        "  R = np.divide(H_inv,(np.multiply(H,H_inv) + gamma*(np.abs(P)**2)))\n",
        "\n",
        "  #Convolution\n",
        "  G = np.multiply(F,R)\n",
        "\n",
        "  # Inverse Transform\n",
        "  g = fftshift(ifftn(G).real)\n",
        "  g = np.clip(g.astype(int), 0,255)\n",
        "\n",
        "  \n",
        "  #plt.imshow(g, cmap=\"gray\"); plt.title(\"clsq\")\n",
        "  error(f,g)"
      ],
      "metadata": {
        "id": "Xiz5XioRzBE_"
      },
      "execution_count": 8,
      "outputs": []
    },
    {
      "cell_type": "code",
      "source": [
        "filename = str(input()).rstrip()\n",
        "method = int(input())\n",
        "if method == 1:\n",
        "  kernel = int(input())\n",
        "  sigma = float(input())\n",
        "  gamma = float(input())\n",
        "  CLSQ(filename, kernel, sigma, gamma)"
      ],
      "metadata": {
        "id": "RCuR6Na-xB2p"
      },
      "execution_count": null,
      "outputs": []
    },
    {
      "cell_type": "code",
      "source": [
        ""
      ],
      "metadata": {
        "id": "Cp6egl1XPWyQ"
      },
      "execution_count": null,
      "outputs": []
    }
  ]
}