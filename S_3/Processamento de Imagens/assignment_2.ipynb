{
  "cells": [
    {
      "cell_type": "code",
      "execution_count": 139,
      "metadata": {
        "id": "G9KCqrFajw_h"
      },
      "outputs": [],
      "source": [
        "#Eduardo Barroso Ribeiro Fernandes\n",
        "#N_USP: 12681733\n",
        "import numpy as np\n",
        "import imageio\n",
        "import matplotlib.pyplot as plt\n",
        "import statistics as st"
      ]
    },
    {
      "cell_type": "code",
      "execution_count": 140,
      "metadata": {
        "id": "2K83ZCMuuktd"
      },
      "outputs": [],
      "source": [
        "\n",
        "def filtering_1d(array_img, array_w, w_size):\n",
        "    a_size = int(array_img.size)\n",
        "    array = np.asarray(array_img).flatten()\n",
        "    arr = np.zeros(a_size)\n",
        "    for i in range(a_size):\n",
        "        for j in range(w_size):\n",
        "            #When reach de end of array\n",
        "            if i+j >= a_size:\n",
        "                #Back to the start\n",
        "                arr[i] += array[j-1]*array_w[j]\n",
        "            else:\n",
        "                arr[i] += array[i+j]*array_w[j]\n",
        "\n",
        "    #Correcting array:\n",
        "    \n",
        "    #The last to start\n",
        "    arr = np.insert(arr, 0, arr[a_size-1], axis = 0)\n",
        "\n",
        "    #Slicing until the penultimate\n",
        "    arr = arr[:a_size]\n",
        "\n",
        "    #Reshaping to a bidimesional array\n",
        "    arr = np.reshape(arr,(int(np.sqrt(a_size)),int(np.sqrt(a_size))))\n",
        "\n",
        "    return arr\n"
      ]
    },
    {
      "cell_type": "code",
      "execution_count": 141,
      "metadata": {
        "id": "HUFYYtb20nqn"
      },
      "outputs": [],
      "source": [
        "def arr_dot(array1, array2):\n",
        "  return np.sum(np.multiply(array1,array2))"
      ]
    },
    {
      "cell_type": "code",
      "execution_count": 152,
      "metadata": {
        "id": "ezNBnD7CRzcs"
      },
      "outputs": [],
      "source": [
        "def binarize(img, img_size, threshold):\n",
        "  for i in range (img_size):\n",
        "    for j in range (img_size):\n",
        "      if img[i][j] > threshold:\n",
        "        img[i][j] = 1\n",
        "      else:\n",
        "        img[i][j] = 0\n",
        "  return img"
      ]
    },
    {
      "cell_type": "code",
      "execution_count": 153,
      "metadata": {
        "id": "RAUVTXaGlWSg"
      },
      "outputs": [],
      "source": [
        "def limiarization(img,img_size, threshold):\n",
        "\n",
        "  #Separating the two regions of different intesities \n",
        "  avg1 = np.average(img[np.where(img > threshold)])\n",
        "  avg2 = np.average(img[np.where(img <= threshold)])\n",
        "  t = (avg1+avg2)/2\n",
        "\n",
        "  if np.abs(t - threshold) > 0.5:\n",
        "\n",
        "    #Recursive call to reach the theshold pretended\n",
        "    return limiarization(img, img_size, t)\n",
        "\n",
        "  else:\n",
        "\n",
        "    return binarize(img, img_size, t)"
      ]
    },
    {
      "cell_type": "code",
      "execution_count": 144,
      "metadata": {
        "id": "w2Y8Q_mTwmkU"
      },
      "outputs": [],
      "source": [
        "def filtering_2d(img, img_size, weights, size_filter, threshold):\n",
        "  #the value of Pad (to the border) is the whole number of size_filter/2\n",
        "  pad = size_filter//2\n",
        "\n",
        "  #aplying the borders as a symmetric matrix\n",
        "  img = np.pad(img, pad_width=pad, mode='symmetric')\n",
        "\n",
        "  arr = np.zeros((img_size,img_size))\n",
        "  for i in range(pad,img_size+pad):\n",
        "    for j in range(pad,img_size+pad):\n",
        "\n",
        "      #Summing the term-by-term multiplications of the arrays\n",
        "      arr[i-pad][j-pad] = np.sum(np.multiply(weights,img[i-pad:i+pad+1,j-pad:j+pad+1]))\n",
        "      \n",
        "  return limiarization(arr, img_size, threshold)"
      ]
    },
    {
      "cell_type": "code",
      "source": [
        "def median_filter(img, img_size, size_filter):\n",
        "  #the value of Pad (to the border) is the whole number of size_filter/2\n",
        "  pad = size_filter//2\n",
        "\n",
        "  #aplying the borders\n",
        "  img = np.pad(img, pad_width=pad, mode='constant', constant_values = 0)\n",
        "\n",
        "  arr = np.zeros((img_size,img_size))\n",
        "  for i in range(pad, img_size+pad):\n",
        "    for j in range(pad, img_size+pad):\n",
        "        #slicing array and calculating median value\n",
        "        arr[i-pad][j-pad] = st.median(np.asarray(img[i-pad:i+pad+1,j-pad:j+pad+1]).flatten())\n",
        "\n",
        "  return arr"
      ],
      "metadata": {
        "id": "lFOS9wYz-NHy"
      },
      "execution_count": 145,
      "outputs": []
    },
    {
      "cell_type": "code",
      "execution_count": 146,
      "metadata": {
        "id": "4G02GAF9ukth"
      },
      "outputs": [],
      "source": [
        "#Normalization Values to int[0,255]\n",
        "def normalization(img):\n",
        "  min = np.min(img)\n",
        "  max = np.max(img)\n",
        "  img_new = np.asarray(((img - min)/(max-min))*255)\n",
        "  return img_new"
      ]
    },
    {
      "cell_type": "code",
      "execution_count": 154,
      "metadata": {
        "id": "wON7x0Vmukti"
      },
      "outputs": [],
      "source": [
        "#Comparison with original image usin the Root mean square error\n",
        "def error(img, output):\n",
        "  MSE = np.square(np.subtract(img,output)).mean() \n",
        "  RMSE = np.sqrt(np.square(np.subtract(img,output)).mean())\n",
        "  print(f'{RMSE:.4f}')"
      ]
    },
    {
      "cell_type": "code",
      "execution_count": 148,
      "metadata": {
        "id": "5h0GSIy8uktl"
      },
      "outputs": [],
      "source": [
        "#Choosing method\n",
        "def method_img(img, img_size, method):\n",
        "  \n",
        "    if method == 1:\n",
        "\n",
        "        threshold = int(input())\n",
        "\n",
        "        return limiarization(img,img_size,threshold)\n",
        "\n",
        "    elif method == 2:\n",
        "\n",
        "        n = int(input())\n",
        "        weights = np.asarray(list(map(int,input().split())))\n",
        "\n",
        "        return filtering_1d(np.asarray(img).flatten(), weights, n)\n",
        "\n",
        "    elif method == 3:\n",
        "\n",
        "        n = int(input())\n",
        "        weights = np.zeros((n,n))\n",
        "\n",
        "        for i in range(n):\n",
        "\n",
        "          weights[i] = np.asarray(list(map(int,input().split())))\n",
        "\n",
        "        threshold = int(input())\n",
        "\n",
        "        return filtering_2d(img, img_size,weights,n, threshold)\n",
        "\n",
        "    else:\n",
        "      \n",
        "        n = int(input())\n",
        "\n",
        "        return median_filter(img, img_size, n)"
      ]
    },
    {
      "cell_type": "code",
      "execution_count": 149,
      "metadata": {
        "colab": {
          "base_uri": "https://localhost:8080/"
        },
        "id": "ezySsxBF8o5i",
        "outputId": "139a4600-a144-49c8-d38d-af4ed8766c5e"
      },
      "outputs": [
        {
          "name": "stdout",
          "output_type": "stream",
          "text": [
            "lena_saltpepper.png\n",
            "4\n"
          ]
        }
      ],
      "source": [
        "#Input values\n",
        "filename = str(input()).rstrip()\n",
        "method = int(input())\n",
        "img = imageio.imread(filename)\n",
        "img_size = int(np.sqrt(np.size(img)))"
      ]
    },
    {
      "cell_type": "code",
      "source": [
        "#Output image\n",
        "output = method_img(img, img_size,method)\n",
        "output = normalization(output)\n",
        "error(img, output)"
      ],
      "metadata": {
        "colab": {
          "base_uri": "https://localhost:8080/"
        },
        "id": "Jhha3qbc_Imp",
        "outputId": "be00661f-6d14-4f3d-b9db-2c567cf8314a"
      },
      "execution_count": 155,
      "outputs": [
        {
          "output_type": "stream",
          "name": "stdout",
          "text": [
            "5\n",
            "45.6618\n"
          ]
        }
      ]
    }
  ],
  "metadata": {
    "colab": {
      "collapsed_sections": [],
      "name": "assignment2(1).ipynb",
      "provenance": []
    },
    "kernelspec": {
      "display_name": "Python 3",
      "name": "python3"
    },
    "language_info": {
      "codemirror_mode": {
        "name": "ipython",
        "version": 3
      },
      "file_extension": ".py",
      "mimetype": "text/x-python",
      "name": "python",
      "nbconvert_exporter": "python",
      "pygments_lexer": "ipython3",
      "version": "3.9.5"
    }
  },
  "nbformat": 4,
  "nbformat_minor": 0
}