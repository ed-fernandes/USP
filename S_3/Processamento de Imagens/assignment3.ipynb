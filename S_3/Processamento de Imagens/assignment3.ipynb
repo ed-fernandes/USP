{
  "nbformat": 4,
  "nbformat_minor": 0,
  "metadata": {
    "colab": {
      "name": "assignment3.ipynb",
      "provenance": [],
      "collapsed_sections": []
    },
    "kernelspec": {
      "name": "python3",
      "display_name": "Python 3"
    },
    "language_info": {
      "name": "python"
    }
  },
  "cells": [
    {
      "cell_type": "code",
      "execution_count": null,
      "metadata": {
        "id": "CHwHz2umoXYW"
      },
      "outputs": [],
      "source": [
        "import numpy as np\n",
        "import imageio"
      ]
    },
    {
      "cell_type": "code",
      "source": [
        "#Comparison with original image using the Root mean square error\n",
        "def error(img, output):\n",
        "  MSE = np.square(np.subtract(img,output)).mean() \n",
        "  RMSE = np.sqrt(np.square(np.subtract(img,output)).mean())\n",
        "  print(f'{RMSE:.4f}')"
      ],
      "metadata": {
        "id": "le5oCMR6TBuq"
      },
      "execution_count": null,
      "outputs": []
    },
    {
      "cell_type": "code",
      "source": [
        "#Normalization Values to int[0,255]\n",
        "def normalization(img):\n",
        "  min = np.min(img)\n",
        "  max = np.max(img)\n",
        "  img_new = np.asarray(((img - min)/(max-min))*255)\n",
        "  return img_new"
      ],
      "metadata": {
        "id": "mr_wt9Bg9cgv"
      },
      "execution_count": null,
      "outputs": []
    },
    {
      "cell_type": "code",
      "source": [
        "#Normalization Values to int[0,1]\n",
        "def normalization_b(img):\n",
        "  min = np.min(img)\n",
        "  max = np.max(img)\n",
        "  img_new = np.asarray(((img - min)/(max-min)))\n",
        "  return img_new"
      ],
      "metadata": {
        "id": "uvGNlO03_Lja"
      },
      "execution_count": null,
      "outputs": []
    },
    {
      "cell_type": "code",
      "source": [
        "filename_image = str(input()).rstrip()\n",
        "filename_filter = str(input()).rstrip()\n",
        "filename_refimg = str(input()).rstrip()"
      ],
      "metadata": {
        "colab": {
          "base_uri": "https://localhost:8080/",
          "height": 536
        },
        "id": "Hi49lW3h87nC",
        "outputId": "1aea618d-5716-45ab-f0ef-4f94a550023c"
      },
      "execution_count": null,
      "outputs": []
    },
    {
      "cell_type": "code",
      "source": [
        "img = imageio.imread(filename_image)\n",
        "filter_ = imageio.imread(filename_filter)\n",
        "refimg = imageio.imread(filename_refimg)"
      ],
      "metadata": {
        "id": "pikJ8fec1QKx"
      },
      "execution_count": null,
      "outputs": []
    },
    {
      "cell_type": "code",
      "source": [
        "img_F = np.fft.fft2(img)\n",
        "#img_F its Frequency Domain of IMG, the F(I)"
      ],
      "metadata": {
        "id": "ZYaxtQ3MN6Cr"
      },
      "execution_count": null,
      "outputs": []
    },
    {
      "cell_type": "code",
      "source": [
        "transf = normalization(img_F)\n",
        "#the F(I) between [0,255]"
      ],
      "metadata": {
        "id": "iQ3eCLXQKp6c"
      },
      "execution_count": null,
      "outputs": []
    },
    {
      "cell_type": "code",
      "source": [
        "filtro = normalization_b(filter_)\n",
        "#The filter between [0,1]"
      ],
      "metadata": {
        "id": "YPY0ARhqKrpa"
      },
      "execution_count": null,
      "outputs": []
    },
    {
      "cell_type": "code",
      "source": [
        "img_F = np.fft.fftshift(img_F)\n",
        "#shiftting the image"
      ],
      "metadata": {
        "id": "A8I__UzTIF2l"
      },
      "execution_count": null,
      "outputs": []
    },
    {
      "cell_type": "code",
      "source": [
        "result = np.multiply(transf, filtro)\n",
        "#Applying the filter M on Frequency Domain"
      ],
      "metadata": {
        "id": "-XEEUw8aKuQx"
      },
      "execution_count": null,
      "outputs": []
    },
    {
      "cell_type": "code",
      "source": [
        "result = np.fft.ifft2(result)\n",
        "#Backing the IMG with the inverse of F, IF(I) = I\n"
      ],
      "metadata": {
        "id": "sS7AXsXpKxN5"
      },
      "execution_count": null,
      "outputs": []
    },
    {
      "cell_type": "code",
      "source": [
        "result = np.fft.ifftshift(result)\n",
        "#re-shiffting the image"
      ],
      "metadata": {
        "id": "8KPBgQAJKv_O"
      },
      "execution_count": null,
      "outputs": []
    },
    {
      "cell_type": "code",
      "source": [
        "result = normalization(result)\n",
        "result = np.abs(result).astype(np.uint8)"
      ],
      "metadata": {
        "id": "tooJuUJYKycM"
      },
      "execution_count": null,
      "outputs": []
    },
    {
      "cell_type": "code",
      "source": [
        "error(result, refimg)"
      ],
      "metadata": {
        "colab": {
          "base_uri": "https://localhost:8080/"
        },
        "id": "ShWkbASRKzpF",
        "outputId": "4962c6b2-860f-45ff-8dab-28b5dd0af89c"
      },
      "execution_count": null,
      "outputs": [
        {
          "output_type": "stream",
          "name": "stdout",
          "text": [
            "10.4419\n"
          ]
        }
      ]
    }
  ]
}
